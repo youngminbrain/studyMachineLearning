{
 "cells": [
  {
   "cell_type": "markdown",
   "metadata": {},
   "source": [
    "![title](https://www.python.org/static/img/python-logo@2x.png)"
   ]
  },
  {
   "cell_type": "markdown",
   "metadata": {},
   "source": [
    "![filename](http://www.nvidia.com/content/apac/event/kr/deep-learning-software/assets/img/frameworklogos-hrz.png)"
   ]
  },
  {
   "cell_type": "markdown",
   "metadata": {},
   "source": [
    "## Installation\n",
    "\n",
    "### Anaconda (Python + Jupyter Notebook + Packages)\n",
    "[1] Go to Archive: https://repo.continuum.io/archive/ <br>\n",
    "[2] Download for your environment: e.g., \"Anaconda3-4.2.0-Windows-x86_64.exe\" for Windows 64-bit <br>\n",
    "[3] Install the file <br>\n",
    "\n",
    "\n",
    "### TensorFlow\n",
    "[1] Go to TensorFlow Installation: https://www.tensorflow.org/install/ <br>\n",
    "[2] Open a terminal window (Windows: Home => \"cmd\") <br>\n",
    "[3] C:> conda create -n tensorflow  <br>\n",
    "[4] C:> activate tensorflow <br>\n",
    "[5] (tensorflow)C:> pip install --ignore-installed --upgrade https://storage.googleapis.com/tensorflow/windows/cpu/tensorflow-1.1.0-cp35-cp35m-win_amd64.whl <br>"
   ]
  },
  {
   "cell_type": "markdown",
   "metadata": {
    "collapsed": true
   },
   "source": [
    "### Get Started\n",
    "[1] Open a terminal window <br>\n",
    "[2] C:> activate tensorflow <br>\n",
    "[3] (tensorflow)C:> jupyter notebook <br>\n",
    "[4] Open a browser: type \"localhost:8888\" in the address line <br>\n",
    "[5] To exit, Ctrl + C or close the terminal window"
   ]
  },
  {
   "cell_type": "code",
   "execution_count": null,
   "metadata": {
    "collapsed": true
   },
   "outputs": [],
   "source": []
  }
 ],
 "metadata": {
  "kernelspec": {
   "display_name": "Python 3",
   "language": "python",
   "name": "python3"
  },
  "language_info": {
   "codemirror_mode": {
    "name": "ipython",
    "version": 3
   },
   "file_extension": ".py",
   "mimetype": "text/x-python",
   "name": "python",
   "nbconvert_exporter": "python",
   "pygments_lexer": "ipython3",
   "version": "3.6.0"
  }
 },
 "nbformat": 4,
 "nbformat_minor": 2
}
