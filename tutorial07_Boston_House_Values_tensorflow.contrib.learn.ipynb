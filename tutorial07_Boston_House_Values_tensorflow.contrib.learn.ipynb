{
 "cells": [
  {
   "cell_type": "code",
   "execution_count": 11,
   "metadata": {
    "collapsed": true
   },
   "outputs": [],
   "source": [
    "from __future__ import absolute_import\n",
    "from __future__ import division\n",
    "from __future__ import print_function\n",
    "\n",
    "import itertools\n",
    "\n",
    "import pandas as pd\n",
    "import tensorflow as tf\n",
    "\n",
    "tf.logging.set_verbosity(tf.logging.INFO)"
   ]
  },
  {
   "cell_type": "code",
   "execution_count": 12,
   "metadata": {
    "collapsed": true
   },
   "outputs": [],
   "source": [
    "COLUMNS = [\"crim\", \"zn\", \"indus\", \"nox\", \"rm\", \"age\",\n",
    "           \"dis\", \"tax\", \"ptratio\", \"medv\"]\n",
    "FEATURES = [\"crim\", \"zn\", \"indus\", \"nox\", \"rm\",\n",
    "            \"age\", \"dis\", \"tax\", \"ptratio\"]\n",
    "LABEL = \"medv\"\n",
    "\n",
    "training_set = pd.read_csv(\"boston_train.csv\", skipinitialspace=True,\n",
    "                           skiprows=1, names=COLUMNS)\n",
    "test_set = pd.read_csv(\"boston_test.csv\", skipinitialspace=True,\n",
    "                       skiprows=1, names=COLUMNS)\n",
    "prediction_set = pd.read_csv(\"boston_predict.csv\", skipinitialspace=True,\n",
    "                             skiprows=1, names=COLUMNS)"
   ]
  },
  {
   "cell_type": "code",
   "execution_count": 27,
   "metadata": {
    "collapsed": false
   },
   "outputs": [
    {
     "data": {
      "text/plain": [
       "crim       float64\n",
       "zn         float64\n",
       "indus      float64\n",
       "nox        float64\n",
       "rm         float64\n",
       "age        float64\n",
       "dis        float64\n",
       "tax          int64\n",
       "ptratio    float64\n",
       "medv       float64\n",
       "dtype: object"
      ]
     },
     "execution_count": 27,
     "metadata": {},
     "output_type": "execute_result"
    }
   ],
   "source": [
    "training_set\n",
    "training_set.dtypes"
   ]
  },
  {
   "cell_type": "code",
   "execution_count": 22,
   "metadata": {
    "collapsed": false
   },
   "outputs": [
    {
     "name": "stdout",
     "output_type": "stream",
     "text": [
      "(400, 10)\n",
      "(100, 10)\n",
      "(6, 10)\n"
     ]
    }
   ],
   "source": [
    "print(training_set.shape)\n",
    "print(test_set.shape)\n",
    "print(prediction_set.shape)"
   ]
  },
  {
   "cell_type": "code",
   "execution_count": 23,
   "metadata": {
    "collapsed": true
   },
   "outputs": [],
   "source": [
    "feature_cols = [tf.contrib.layers.real_valued_column(k)\n",
    "                  for k in FEATURES]"
   ]
  },
  {
   "cell_type": "code",
   "execution_count": 24,
   "metadata": {
    "collapsed": false
   },
   "outputs": [
    {
     "data": {
      "text/plain": [
       "[_RealValuedColumn(column_name='crim', dimension=1, default_value=None, dtype=tf.float32, normalizer=None),\n",
       " _RealValuedColumn(column_name='zn', dimension=1, default_value=None, dtype=tf.float32, normalizer=None),\n",
       " _RealValuedColumn(column_name='indus', dimension=1, default_value=None, dtype=tf.float32, normalizer=None),\n",
       " _RealValuedColumn(column_name='nox', dimension=1, default_value=None, dtype=tf.float32, normalizer=None),\n",
       " _RealValuedColumn(column_name='rm', dimension=1, default_value=None, dtype=tf.float32, normalizer=None),\n",
       " _RealValuedColumn(column_name='age', dimension=1, default_value=None, dtype=tf.float32, normalizer=None),\n",
       " _RealValuedColumn(column_name='dis', dimension=1, default_value=None, dtype=tf.float32, normalizer=None),\n",
       " _RealValuedColumn(column_name='tax', dimension=1, default_value=None, dtype=tf.float32, normalizer=None),\n",
       " _RealValuedColumn(column_name='ptratio', dimension=1, default_value=None, dtype=tf.float32, normalizer=None)]"
      ]
     },
     "execution_count": 24,
     "metadata": {},
     "output_type": "execute_result"
    }
   ],
   "source": [
    "feature_cols"
   ]
  },
  {
   "cell_type": "code",
   "execution_count": 25,
   "metadata": {
    "collapsed": false
   },
   "outputs": [
    {
     "name": "stdout",
     "output_type": "stream",
     "text": [
      "INFO:tensorflow:Using default config.\n",
      "INFO:tensorflow:Using config: {'_task_type': None, '_task_id': 0, '_cluster_spec': <tensorflow.python.training.server_lib.ClusterSpec object at 0x117fd32b0>, '_master': '', '_num_ps_replicas': 0, '_environment': 'local', '_is_chief': True, '_evaluation_master': '', '_tf_config': gpu_options {\n",
      "  per_process_gpu_memory_fraction: 1\n",
      "}\n",
      ", '_tf_random_seed': None, '_save_summary_steps': 100, '_save_checkpoints_secs': 600, '_save_checkpoints_steps': None, '_keep_checkpoint_max': 5, '_keep_checkpoint_every_n_hours': 10000}\n"
     ]
    }
   ],
   "source": [
    "regressor = tf.contrib.learn.DNNRegressor(feature_columns=feature_cols,\n",
    "                                          hidden_units=[10, 10],\n",
    "                                          model_dir=\"/tmp/boston_model\")"
   ]
  },
  {
   "cell_type": "code",
   "execution_count": 28,
   "metadata": {
    "collapsed": true
   },
   "outputs": [],
   "source": [
    "def input_fn(data_set):\n",
    "  feature_cols = {k: tf.constant(data_set[k].values)\n",
    "                  for k in FEATURES}\n",
    "  labels = tf.constant(data_set[LABEL].values)\n",
    "  return feature_cols, labels"
   ]
  },
  {
   "cell_type": "code",
   "execution_count": 29,
   "metadata": {
    "collapsed": false
   },
   "outputs": [
    {
     "name": "stdout",
     "output_type": "stream",
     "text": [
      "WARNING:tensorflow:Rank of input Tensor (1) should be the same as output_rank (2) for column. Will attempt to expand dims. It is highly recommended that you resize your input, as this behavior may change.\n",
      "WARNING:tensorflow:Rank of input Tensor (1) should be the same as output_rank (2) for column. Will attempt to expand dims. It is highly recommended that you resize your input, as this behavior may change.\n",
      "WARNING:tensorflow:Rank of input Tensor (1) should be the same as output_rank (2) for column. Will attempt to expand dims. It is highly recommended that you resize your input, as this behavior may change.\n",
      "WARNING:tensorflow:Rank of input Tensor (1) should be the same as output_rank (2) for column. Will attempt to expand dims. It is highly recommended that you resize your input, as this behavior may change.\n",
      "WARNING:tensorflow:Rank of input Tensor (1) should be the same as output_rank (2) for column. Will attempt to expand dims. It is highly recommended that you resize your input, as this behavior may change.\n",
      "WARNING:tensorflow:Rank of input Tensor (1) should be the same as output_rank (2) for column. Will attempt to expand dims. It is highly recommended that you resize your input, as this behavior may change.\n",
      "WARNING:tensorflow:Rank of input Tensor (1) should be the same as output_rank (2) for column. Will attempt to expand dims. It is highly recommended that you resize your input, as this behavior may change.\n",
      "WARNING:tensorflow:Rank of input Tensor (1) should be the same as output_rank (2) for column. Will attempt to expand dims. It is highly recommended that you resize your input, as this behavior may change.\n",
      "WARNING:tensorflow:Rank of input Tensor (1) should be the same as output_rank (2) for column. Will attempt to expand dims. It is highly recommended that you resize your input, as this behavior may change.\n",
      "WARNING:tensorflow:From /Users/youngmin/anaconda3/lib/python3.6/site-packages/tensorflow/contrib/learn/python/learn/estimators/head.py:1362: scalar_summary (from tensorflow.python.ops.logging_ops) is deprecated and will be removed after 2016-11-30.\n",
      "Instructions for updating:\n",
      "Please switch to tf.summary.scalar. Note that tf.summary.scalar uses the node name instead of the tag. This means that TensorFlow will automatically de-duplicate summary names based on the scope they are created in. Also, passing a tensor or list of tags to a scalar summary op is no longer supported.\n",
      "INFO:tensorflow:Create CheckpointSaverHook.\n",
      "INFO:tensorflow:Saving checkpoints for 1 into /tmp/boston_model/model.ckpt.\n",
      "INFO:tensorflow:loss = 1766.87, step = 1\n",
      "INFO:tensorflow:global_step/sec: 849.013\n",
      "INFO:tensorflow:loss = 90.2777, step = 101\n",
      "INFO:tensorflow:global_step/sec: 798.441\n",
      "INFO:tensorflow:loss = 81.9136, step = 201\n",
      "INFO:tensorflow:global_step/sec: 802.665\n",
      "INFO:tensorflow:loss = 78.316, step = 301\n",
      "INFO:tensorflow:global_step/sec: 817.842\n",
      "INFO:tensorflow:loss = 75.6336, step = 401\n",
      "INFO:tensorflow:global_step/sec: 840.923\n",
      "INFO:tensorflow:loss = 73.2018, step = 501\n",
      "INFO:tensorflow:global_step/sec: 858.495\n",
      "INFO:tensorflow:loss = 70.1096, step = 601\n",
      "INFO:tensorflow:global_step/sec: 626.975\n",
      "INFO:tensorflow:loss = 66.9374, step = 701\n",
      "INFO:tensorflow:global_step/sec: 610.653\n",
      "INFO:tensorflow:loss = 64.7317, step = 801\n",
      "INFO:tensorflow:global_step/sec: 766.467\n",
      "INFO:tensorflow:loss = 61.5779, step = 901\n",
      "INFO:tensorflow:global_step/sec: 880.786\n",
      "INFO:tensorflow:loss = 58.6964, step = 1001\n",
      "INFO:tensorflow:global_step/sec: 795.93\n",
      "INFO:tensorflow:loss = 55.288, step = 1101\n",
      "INFO:tensorflow:global_step/sec: 887.24\n",
      "INFO:tensorflow:loss = 52.1961, step = 1201\n",
      "INFO:tensorflow:global_step/sec: 845.087\n",
      "INFO:tensorflow:loss = 49.0488, step = 1301\n",
      "INFO:tensorflow:global_step/sec: 790.675\n",
      "INFO:tensorflow:loss = 46.3047, step = 1401\n",
      "INFO:tensorflow:global_step/sec: 791.29\n",
      "INFO:tensorflow:loss = 43.8247, step = 1501\n",
      "INFO:tensorflow:global_step/sec: 869.264\n",
      "INFO:tensorflow:loss = 40.9033, step = 1601\n",
      "INFO:tensorflow:global_step/sec: 859.408\n",
      "INFO:tensorflow:loss = 38.6109, step = 1701\n",
      "INFO:tensorflow:global_step/sec: 865.705\n",
      "INFO:tensorflow:loss = 40.5569, step = 1801\n",
      "INFO:tensorflow:global_step/sec: 851.186\n",
      "INFO:tensorflow:loss = 37.569, step = 1901\n",
      "INFO:tensorflow:global_step/sec: 838.483\n",
      "INFO:tensorflow:loss = 35.8562, step = 2001\n",
      "INFO:tensorflow:global_step/sec: 860.261\n",
      "INFO:tensorflow:loss = 34.6694, step = 2101\n",
      "INFO:tensorflow:global_step/sec: 848.939\n",
      "INFO:tensorflow:loss = 34.2078, step = 2201\n",
      "INFO:tensorflow:global_step/sec: 834.606\n",
      "INFO:tensorflow:loss = 33.6149, step = 2301\n",
      "INFO:tensorflow:global_step/sec: 803.496\n",
      "INFO:tensorflow:loss = 32.9955, step = 2401\n",
      "INFO:tensorflow:global_step/sec: 838.856\n",
      "INFO:tensorflow:loss = 32.5571, step = 2501\n",
      "INFO:tensorflow:global_step/sec: 826.439\n",
      "INFO:tensorflow:loss = 32.2838, step = 2601\n",
      "INFO:tensorflow:global_step/sec: 795.298\n",
      "INFO:tensorflow:loss = 31.5488, step = 2701\n",
      "INFO:tensorflow:global_step/sec: 877.385\n",
      "INFO:tensorflow:loss = 31.3315, step = 2801\n",
      "INFO:tensorflow:global_step/sec: 808.604\n",
      "INFO:tensorflow:loss = 31.098, step = 2901\n",
      "INFO:tensorflow:global_step/sec: 833.619\n",
      "INFO:tensorflow:loss = 31.3455, step = 3001\n",
      "INFO:tensorflow:global_step/sec: 846.905\n",
      "INFO:tensorflow:loss = 30.9562, step = 3101\n",
      "INFO:tensorflow:global_step/sec: 823.661\n",
      "INFO:tensorflow:loss = 30.5349, step = 3201\n",
      "INFO:tensorflow:global_step/sec: 799.293\n",
      "INFO:tensorflow:loss = 30.3878, step = 3301\n",
      "INFO:tensorflow:global_step/sec: 878.456\n",
      "INFO:tensorflow:loss = 30.3746, step = 3401\n",
      "INFO:tensorflow:global_step/sec: 899.878\n",
      "INFO:tensorflow:loss = 30.15, step = 3501\n",
      "INFO:tensorflow:global_step/sec: 825.969\n",
      "INFO:tensorflow:loss = 30.0521, step = 3601\n",
      "INFO:tensorflow:global_step/sec: 796.603\n",
      "INFO:tensorflow:loss = 29.9586, step = 3701\n",
      "INFO:tensorflow:global_step/sec: 757.267\n",
      "INFO:tensorflow:loss = 29.7383, step = 3801\n",
      "INFO:tensorflow:global_step/sec: 850.73\n",
      "INFO:tensorflow:loss = 29.4936, step = 3901\n",
      "INFO:tensorflow:global_step/sec: 905.313\n",
      "INFO:tensorflow:loss = 29.3628, step = 4001\n",
      "INFO:tensorflow:global_step/sec: 950.725\n",
      "INFO:tensorflow:loss = 29.2491, step = 4101\n",
      "INFO:tensorflow:global_step/sec: 938.604\n",
      "INFO:tensorflow:loss = 29.1518, step = 4201\n",
      "INFO:tensorflow:global_step/sec: 918.669\n",
      "INFO:tensorflow:loss = 29.0667, step = 4301\n",
      "INFO:tensorflow:global_step/sec: 919.854\n",
      "INFO:tensorflow:loss = 28.9914, step = 4401\n",
      "INFO:tensorflow:global_step/sec: 957.765\n",
      "INFO:tensorflow:loss = 28.9667, step = 4501\n",
      "INFO:tensorflow:global_step/sec: 891.883\n",
      "INFO:tensorflow:loss = 28.9134, step = 4601\n",
      "INFO:tensorflow:global_step/sec: 853.337\n",
      "INFO:tensorflow:loss = 29.0006, step = 4701\n",
      "INFO:tensorflow:global_step/sec: 921.967\n",
      "INFO:tensorflow:loss = 28.9878, step = 4801\n",
      "INFO:tensorflow:global_step/sec: 915.106\n",
      "INFO:tensorflow:loss = 28.9067, step = 4901\n",
      "INFO:tensorflow:Saving checkpoints for 5000 into /tmp/boston_model/model.ckpt.\n",
      "INFO:tensorflow:Loss for final step: 28.8813.\n"
     ]
    },
    {
     "data": {
      "text/plain": [
       "DNNRegressor(params={'head': <tensorflow.contrib.learn.python.learn.estimators.head._RegressionHead object at 0x117bcd898>, 'hidden_units': [10, 10], 'feature_columns': (_RealValuedColumn(column_name='crim', dimension=1, default_value=None, dtype=tf.float32, normalizer=None), _RealValuedColumn(column_name='zn', dimension=1, default_value=None, dtype=tf.float32, normalizer=None), _RealValuedColumn(column_name='indus', dimension=1, default_value=None, dtype=tf.float32, normalizer=None), _RealValuedColumn(column_name='nox', dimension=1, default_value=None, dtype=tf.float32, normalizer=None), _RealValuedColumn(column_name='rm', dimension=1, default_value=None, dtype=tf.float32, normalizer=None), _RealValuedColumn(column_name='age', dimension=1, default_value=None, dtype=tf.float32, normalizer=None), _RealValuedColumn(column_name='dis', dimension=1, default_value=None, dtype=tf.float32, normalizer=None), _RealValuedColumn(column_name='tax', dimension=1, default_value=None, dtype=tf.float32, normalizer=None), _RealValuedColumn(column_name='ptratio', dimension=1, default_value=None, dtype=tf.float32, normalizer=None)), 'optimizer': None, 'activation_fn': <function relu at 0x10df1af28>, 'dropout': None, 'gradient_clip_norm': None, 'embedding_lr_multipliers': None, 'input_layer_min_slice_size': None})"
      ]
     },
     "execution_count": 29,
     "metadata": {},
     "output_type": "execute_result"
    }
   ],
   "source": [
    "regressor.fit(input_fn=lambda: input_fn(training_set), steps=5000)"
   ]
  },
  {
   "cell_type": "code",
   "execution_count": 30,
   "metadata": {
    "collapsed": false
   },
   "outputs": [
    {
     "name": "stdout",
     "output_type": "stream",
     "text": [
      "WARNING:tensorflow:Rank of input Tensor (1) should be the same as output_rank (2) for column. Will attempt to expand dims. It is highly recommended that you resize your input, as this behavior may change.\n",
      "WARNING:tensorflow:Rank of input Tensor (1) should be the same as output_rank (2) for column. Will attempt to expand dims. It is highly recommended that you resize your input, as this behavior may change.\n",
      "WARNING:tensorflow:Rank of input Tensor (1) should be the same as output_rank (2) for column. Will attempt to expand dims. It is highly recommended that you resize your input, as this behavior may change.\n",
      "WARNING:tensorflow:Rank of input Tensor (1) should be the same as output_rank (2) for column. Will attempt to expand dims. It is highly recommended that you resize your input, as this behavior may change.\n",
      "WARNING:tensorflow:Rank of input Tensor (1) should be the same as output_rank (2) for column. Will attempt to expand dims. It is highly recommended that you resize your input, as this behavior may change.\n",
      "WARNING:tensorflow:Rank of input Tensor (1) should be the same as output_rank (2) for column. Will attempt to expand dims. It is highly recommended that you resize your input, as this behavior may change.\n",
      "WARNING:tensorflow:Rank of input Tensor (1) should be the same as output_rank (2) for column. Will attempt to expand dims. It is highly recommended that you resize your input, as this behavior may change.\n",
      "WARNING:tensorflow:Rank of input Tensor (1) should be the same as output_rank (2) for column. Will attempt to expand dims. It is highly recommended that you resize your input, as this behavior may change.\n",
      "WARNING:tensorflow:Rank of input Tensor (1) should be the same as output_rank (2) for column. Will attempt to expand dims. It is highly recommended that you resize your input, as this behavior may change.\n",
      "WARNING:tensorflow:From /Users/youngmin/anaconda3/lib/python3.6/site-packages/tensorflow/contrib/learn/python/learn/estimators/head.py:1362: scalar_summary (from tensorflow.python.ops.logging_ops) is deprecated and will be removed after 2016-11-30.\n",
      "Instructions for updating:\n",
      "Please switch to tf.summary.scalar. Note that tf.summary.scalar uses the node name instead of the tag. This means that TensorFlow will automatically de-duplicate summary names based on the scope they are created in. Also, passing a tensor or list of tags to a scalar summary op is no longer supported.\n",
      "INFO:tensorflow:Starting evaluation at 2017-06-06-06:42:35\n",
      "INFO:tensorflow:Evaluation [1/1]\n",
      "INFO:tensorflow:Finished evaluation at 2017-06-06-06:42:35\n",
      "INFO:tensorflow:Saving dict for global step 5000: global_step = 5000, loss = 13.4661\n",
      "WARNING:tensorflow:Skipping summary for global_step, must be a float or np.float32.\n"
     ]
    }
   ],
   "source": [
    "ev = regressor.evaluate(input_fn=lambda: input_fn(test_set), steps=1)"
   ]
  },
  {
   "cell_type": "code",
   "execution_count": 31,
   "metadata": {
    "collapsed": false
   },
   "outputs": [
    {
     "name": "stdout",
     "output_type": "stream",
     "text": [
      "Loss: 13.466138\n"
     ]
    }
   ],
   "source": [
    "loss_score = ev[\"loss\"]\n",
    "print(\"Loss: {0:f}\".format(loss_score))"
   ]
  },
  {
   "cell_type": "code",
   "execution_count": 32,
   "metadata": {
    "collapsed": false
   },
   "outputs": [
    {
     "name": "stdout",
     "output_type": "stream",
     "text": [
      "WARNING:tensorflow:Rank of input Tensor (1) should be the same as output_rank (2) for column. Will attempt to expand dims. It is highly recommended that you resize your input, as this behavior may change.\n",
      "WARNING:tensorflow:Rank of input Tensor (1) should be the same as output_rank (2) for column. Will attempt to expand dims. It is highly recommended that you resize your input, as this behavior may change.\n",
      "WARNING:tensorflow:Rank of input Tensor (1) should be the same as output_rank (2) for column. Will attempt to expand dims. It is highly recommended that you resize your input, as this behavior may change.\n",
      "WARNING:tensorflow:Rank of input Tensor (1) should be the same as output_rank (2) for column. Will attempt to expand dims. It is highly recommended that you resize your input, as this behavior may change.\n",
      "WARNING:tensorflow:Rank of input Tensor (1) should be the same as output_rank (2) for column. Will attempt to expand dims. It is highly recommended that you resize your input, as this behavior may change.\n",
      "WARNING:tensorflow:Rank of input Tensor (1) should be the same as output_rank (2) for column. Will attempt to expand dims. It is highly recommended that you resize your input, as this behavior may change.\n",
      "WARNING:tensorflow:Rank of input Tensor (1) should be the same as output_rank (2) for column. Will attempt to expand dims. It is highly recommended that you resize your input, as this behavior may change.\n",
      "WARNING:tensorflow:Rank of input Tensor (1) should be the same as output_rank (2) for column. Will attempt to expand dims. It is highly recommended that you resize your input, as this behavior may change.\n",
      "WARNING:tensorflow:Rank of input Tensor (1) should be the same as output_rank (2) for column. Will attempt to expand dims. It is highly recommended that you resize your input, as this behavior may change.\n",
      "Predictions: [35.216835, 17.974527, 24.106125, 36.08289, 16.739227, 19.465763]\n"
     ]
    }
   ],
   "source": [
    "y = regressor.predict(input_fn=lambda: input_fn(prediction_set))\n",
    "# .predict() returns an iterator; convert to a list and print predictions\n",
    "predictions = list(itertools.islice(y, 6))\n",
    "print (\"Predictions: {}\".format(str(predictions)))"
   ]
  },
  {
   "cell_type": "code",
   "execution_count": null,
   "metadata": {
    "collapsed": true
   },
   "outputs": [],
   "source": []
  }
 ],
 "metadata": {
  "kernelspec": {
   "display_name": "Python 3",
   "language": "python",
   "name": "python3"
  },
  "language_info": {
   "codemirror_mode": {
    "name": "ipython",
    "version": 3
   },
   "file_extension": ".py",
   "mimetype": "text/x-python",
   "name": "python",
   "nbconvert_exporter": "python",
   "pygments_lexer": "ipython3",
   "version": "3.6.0"
  }
 },
 "nbformat": 4,
 "nbformat_minor": 2
}
