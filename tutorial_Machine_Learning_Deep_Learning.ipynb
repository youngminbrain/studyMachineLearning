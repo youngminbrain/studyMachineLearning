{
 "cells": [
  {
   "cell_type": "markdown",
   "metadata": {},
   "source": [
    "![title](https://developer.nvidia.com/sites/default/files/akamai/cuda/images/deeplearning/End-to-End_Deep_Learning_Diagram.png)"
   ]
  },
  {
   "cell_type": "markdown",
   "metadata": {},
   "source": [
    "![title](https://blogs.nvidia.com/wp-content/uploads/2016/01/1-bang-web.gif)"
   ]
  },
  {
   "cell_type": "markdown",
   "metadata": {},
   "source": [
    "![title](https://image.slidesharecdn.com/gtc-express-deep-learning-with-cudnn-webinar-150709172741-lva1-app6891/95/gpu-accelerated-deep-learning-for-cudnn-v2-7-1024.jpg?cb=1436463102)"
   ]
  },
  {
   "cell_type": "markdown",
   "metadata": {},
   "source": [
    "![title](https://image.slidesharecdn.com/gtc-express-deep-learning-with-cudnn-webinar-150709172741-lva1-app6891/95/gpu-accelerated-deep-learning-for-cudnn-v2-11-1024.jpg?cb=1436463102)"
   ]
  },
  {
   "cell_type": "code",
   "execution_count": null,
   "metadata": {
    "collapsed": true
   },
   "outputs": [],
   "source": []
  }
 ],
 "metadata": {
  "kernelspec": {
   "display_name": "Python 3",
   "language": "python",
   "name": "python3"
  },
  "language_info": {
   "codemirror_mode": {
    "name": "ipython",
    "version": 3
   },
   "file_extension": ".py",
   "mimetype": "text/x-python",
   "name": "python",
   "nbconvert_exporter": "python",
   "pygments_lexer": "ipython3",
   "version": "3.6.0"
  }
 },
 "nbformat": 4,
 "nbformat_minor": 2
}
