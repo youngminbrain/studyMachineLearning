{
 "cells": [
  {
   "cell_type": "code",
   "execution_count": 1,
   "metadata": {
    "collapsed": false
   },
   "outputs": [
    {
     "name": "stdout",
     "output_type": "stream",
     "text": [
      "Extracting /tmp/tensorflow/mnist/input_data/train-images-idx3-ubyte.gz\n",
      "Extracting /tmp/tensorflow/mnist/input_data/train-labels-idx1-ubyte.gz\n",
      "Extracting /tmp/tensorflow/mnist/input_data/t10k-images-idx3-ubyte.gz\n",
      "Extracting /tmp/tensorflow/mnist/input_data/t10k-labels-idx1-ubyte.gz\n",
      "W tensorflow/core/platform/cpu_feature_guard.cc:45] The TensorFlow library wasn't compiled to use SSE4.1 instructions, but these are available on your machine and could speed up CPU computations.\n",
      "W tensorflow/core/platform/cpu_feature_guard.cc:45] The TensorFlow library wasn't compiled to use SSE4.2 instructions, but these are available on your machine and could speed up CPU computations.\n",
      "W tensorflow/core/platform/cpu_feature_guard.cc:45] The TensorFlow library wasn't compiled to use AVX instructions, but these are available on your machine and could speed up CPU computations.\n",
      "W tensorflow/core/platform/cpu_feature_guard.cc:45] The TensorFlow library wasn't compiled to use AVX2 instructions, but these are available on your machine and could speed up CPU computations.\n",
      "W tensorflow/core/platform/cpu_feature_guard.cc:45] The TensorFlow library wasn't compiled to use FMA instructions, but these are available on your machine and could speed up CPU computations.\n",
      "Accuracy at step 0: 0.0831\n",
      "Accuracy at step 10: 0.6568\n",
      "Accuracy at step 20: 0.8015\n",
      "Accuracy at step 30: 0.8533\n",
      "Accuracy at step 40: 0.8717\n",
      "Accuracy at step 50: 0.8753\n",
      "Accuracy at step 60: 0.8863\n",
      "Accuracy at step 70: 0.8907\n",
      "Accuracy at step 80: 0.8849\n",
      "Accuracy at step 90: 0.8945\n",
      "Adding run metadata for 99\n",
      "Accuracy at step 100: 0.902\n",
      "Accuracy at step 110: 0.9137\n",
      "Accuracy at step 120: 0.9171\n",
      "Accuracy at step 130: 0.9169\n",
      "Accuracy at step 140: 0.9213\n",
      "Accuracy at step 150: 0.9181\n",
      "Accuracy at step 160: 0.9274\n",
      "Accuracy at step 170: 0.9253\n",
      "Accuracy at step 180: 0.9246\n",
      "Accuracy at step 190: 0.926\n",
      "Adding run metadata for 199\n",
      "Accuracy at step 200: 0.9314\n",
      "Accuracy at step 210: 0.9341\n",
      "Accuracy at step 220: 0.9345\n",
      "Accuracy at step 230: 0.9346\n",
      "Accuracy at step 240: 0.9329\n",
      "Accuracy at step 250: 0.9257\n",
      "Accuracy at step 260: 0.9335\n",
      "Accuracy at step 270: 0.9394\n",
      "Accuracy at step 280: 0.9307\n",
      "Accuracy at step 290: 0.9376\n",
      "Adding run metadata for 299\n",
      "Accuracy at step 300: 0.9412\n",
      "Accuracy at step 310: 0.9431\n",
      "Accuracy at step 320: 0.9395\n",
      "Accuracy at step 330: 0.9432\n",
      "Accuracy at step 340: 0.9479\n",
      "Accuracy at step 350: 0.9452\n",
      "Accuracy at step 360: 0.9406\n",
      "Accuracy at step 370: 0.9459\n",
      "Accuracy at step 380: 0.9483\n",
      "Accuracy at step 390: 0.9459\n",
      "Adding run metadata for 399\n",
      "Accuracy at step 400: 0.9441\n",
      "Accuracy at step 410: 0.9393\n",
      "Accuracy at step 420: 0.9455\n",
      "Accuracy at step 430: 0.9422\n",
      "Accuracy at step 440: 0.9517\n",
      "Accuracy at step 450: 0.9478\n",
      "Accuracy at step 460: 0.9491\n",
      "Accuracy at step 470: 0.9471\n",
      "Accuracy at step 480: 0.9509\n",
      "Accuracy at step 490: 0.9502\n",
      "Adding run metadata for 499\n",
      "Accuracy at step 500: 0.9519\n",
      "Accuracy at step 510: 0.952\n",
      "Accuracy at step 520: 0.9524\n",
      "Accuracy at step 530: 0.9545\n",
      "Accuracy at step 540: 0.9554\n",
      "Accuracy at step 550: 0.953\n",
      "Accuracy at step 560: 0.956\n",
      "Accuracy at step 570: 0.956\n",
      "Accuracy at step 580: 0.9562\n",
      "Accuracy at step 590: 0.9545\n",
      "Adding run metadata for 599\n",
      "Accuracy at step 600: 0.954\n",
      "Accuracy at step 610: 0.9542\n",
      "Accuracy at step 620: 0.9571\n",
      "Accuracy at step 630: 0.9587\n",
      "Accuracy at step 640: 0.9566\n",
      "Accuracy at step 650: 0.9567\n",
      "Accuracy at step 660: 0.9584\n",
      "Accuracy at step 670: 0.9596\n",
      "Accuracy at step 680: 0.9623\n",
      "Accuracy at step 690: 0.9625\n",
      "Adding run metadata for 699\n",
      "Accuracy at step 700: 0.9623\n",
      "Accuracy at step 710: 0.961\n",
      "Accuracy at step 720: 0.9633\n",
      "Accuracy at step 730: 0.9627\n",
      "Accuracy at step 740: 0.9617\n",
      "Accuracy at step 750: 0.9619\n",
      "Accuracy at step 760: 0.9623\n",
      "Accuracy at step 770: 0.9641\n",
      "Accuracy at step 780: 0.9648\n",
      "Accuracy at step 790: 0.9637\n",
      "Adding run metadata for 799\n",
      "Accuracy at step 800: 0.9602\n",
      "Accuracy at step 810: 0.9619\n",
      "Accuracy at step 820: 0.9626\n",
      "Accuracy at step 830: 0.9627\n",
      "Accuracy at step 840: 0.9636\n",
      "Accuracy at step 850: 0.9639\n",
      "Accuracy at step 860: 0.9629\n",
      "Accuracy at step 870: 0.9643\n",
      "Accuracy at step 880: 0.9655\n",
      "Accuracy at step 890: 0.9656\n",
      "Adding run metadata for 899\n",
      "Accuracy at step 900: 0.9637\n",
      "Accuracy at step 910: 0.963\n",
      "Accuracy at step 920: 0.9624\n",
      "Accuracy at step 930: 0.9648\n",
      "Accuracy at step 940: 0.9643\n",
      "Accuracy at step 950: 0.9643\n",
      "Accuracy at step 960: 0.9654\n",
      "Accuracy at step 970: 0.9645\n",
      "Accuracy at step 980: 0.967\n",
      "Accuracy at step 990: 0.9672\n",
      "Adding run metadata for 999\n"
     ]
    }
   ],
   "source": [
    "!python mnist_with_summaries.py"
   ]
  },
  {
   "cell_type": "code",
   "execution_count": 5,
   "metadata": {
    "collapsed": false
   },
   "outputs": [
    {
     "name": "stdout",
     "output_type": "stream",
     "text": [
      "Starting TensorBoard b'41' on port 6007\n",
      "(You can navigate to http://172.31.162.5:6007)\n",
      "^C\n",
      "Traceback (most recent call last):\n",
      "  File \"/Users/youngmin/anaconda3/bin/tensorboard\", line 11, in <module>\n",
      "    sys.exit(main())\n",
      "  File \"/Users/youngmin/anaconda3/lib/python3.6/site-packages/tensorflow/tensorboard/tensorboard.py\", line 151, in main\n",
      "    tb_server.serve_forever()\n",
      "  File \"/Users/youngmin/anaconda3/lib/python3.6/socketserver.py\", line 236, in serve_forever\n",
      "    ready = selector.select(poll_interval)\n",
      "  File \"/Users/youngmin/anaconda3/lib/python3.6/selectors.py\", line 376, in select\n",
      "    fd_event_list = self._poll.poll(timeout)\n",
      "KeyboardInterrupt\n"
     ]
    }
   ],
   "source": [
    "# !tensorboard --logdir=/tmp/tensorflow/mnist/logs/mnist_with_summaries\n",
    "!tensorboard --logdir=/tmp/tensorflow/mnist/logs/mnist_with_summaries --port=6007"
   ]
  },
  {
   "cell_type": "code",
   "execution_count": 1,
   "metadata": {
    "collapsed": false
   },
   "outputs": [
    {
     "name": "stdout",
     "output_type": "stream",
     "text": [
      "Traceback (most recent call last):\r\n",
      "  File \"mnist_1.0_softmax.py\", line 17, in <module>\r\n",
      "    import tensorflowvisu\r\n",
      "ModuleNotFoundError: No module named 'tensorflowvisu'\r\n"
     ]
    }
   ],
   "source": [
    "!python mnist_1.0_softmax.py"
   ]
  },
  {
   "cell_type": "code",
   "execution_count": null,
   "metadata": {
    "collapsed": true
   },
   "outputs": [],
   "source": []
  }
 ],
 "metadata": {
  "kernelspec": {
   "display_name": "Python 3",
   "language": "python",
   "name": "python3"
  },
  "language_info": {
   "codemirror_mode": {
    "name": "ipython",
    "version": 3
   },
   "file_extension": ".py",
   "mimetype": "text/x-python",
   "name": "python",
   "nbconvert_exporter": "python",
   "pygments_lexer": "ipython3",
   "version": "3.6.0"
  }
 },
 "nbformat": 4,
 "nbformat_minor": 2
}
